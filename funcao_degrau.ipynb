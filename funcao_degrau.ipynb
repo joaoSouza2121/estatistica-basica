{
  "nbformat": 4,
  "nbformat_minor": 0,
  "metadata": {
    "colab": {
      "name": "funcao-degrau.ipynb",
      "provenance": [],
      "authorship_tag": "ABX9TyMIYRLbovqpRfYZphPpen5q",
      "include_colab_link": true
    },
    "kernelspec": {
      "name": "python3",
      "display_name": "Python 3"
    },
    "language_info": {
      "name": "python"
    }
  },
  "cells": [
    {
      "cell_type": "markdown",
      "metadata": {
        "id": "view-in-github",
        "colab_type": "text"
      },
      "source": [
        "<a href=\"https://colab.research.google.com/github/joaoSouza2121/estatistica-basica/blob/main/funcao_degrau.ipynb\" target=\"_parent\"><img src=\"https://colab.research.google.com/assets/colab-badge.svg\" alt=\"Open In Colab\"/></a>"
      ]
    },
    {
      "cell_type": "markdown",
      "metadata": {
        "id": "YR8cFt-p0wWW"
      },
      "source": [
        "##Step Function\n",
        "\n",
        "Degrau"
      ]
    },
    {
      "cell_type": "code",
      "metadata": {
        "id": "G7OQ_PZGbGEF"
      },
      "source": [
        "import numpy as np\n"
      ],
      "execution_count": null,
      "outputs": []
    },
    {
      "cell_type": "code",
      "metadata": {
        "id": "vWGYjz1R1EvX"
      },
      "source": [
        "def stepFunction(soma):\n",
        "  if (soma >= 1):\n",
        "    return 1\n",
        "  return 0  "
      ],
      "execution_count": null,
      "outputs": []
    },
    {
      "cell_type": "code",
      "metadata": {
        "colab": {
          "base_uri": "https://localhost:8080/"
        },
        "id": "TsYGf3z01TeI",
        "outputId": "3ff91765-67b6-4c4c-c83a-1db03b0b9489"
      },
      "source": [
        "teste = stepFunction(30)\n",
        "print(teste)"
      ],
      "execution_count": null,
      "outputs": [
        {
          "output_type": "stream",
          "name": "stdout",
          "text": [
            "1\n"
          ]
        }
      ]
    },
    {
      "cell_type": "markdown",
      "metadata": {
        "id": "KogaNLVw18K_"
      },
      "source": [
        "Sigmoid"
      ]
    },
    {
      "cell_type": "code",
      "metadata": {
        "id": "CBinnjPJ1aFm"
      },
      "source": [
        "def sigmoidFunction(soma):\n",
        "  return 1 / (1 + np.exp(-soma))"
      ],
      "execution_count": null,
      "outputs": []
    },
    {
      "cell_type": "code",
      "metadata": {
        "colab": {
          "base_uri": "https://localhost:8080/"
        },
        "id": "mtjUY5OP2R6a",
        "outputId": "76ecd7c6-ccf4-4fd3-8264-fa4ecc78ad8a"
      },
      "source": [
        "teste = sigmoidFunction(0.358)\n",
        "print(teste)"
      ],
      "execution_count": null,
      "outputs": [
        {
          "output_type": "stream",
          "name": "stdout",
          "text": [
            "0.5885562043858291\n"
          ]
        }
      ]
    },
    {
      "cell_type": "markdown",
      "metadata": {
        "id": "7p-rx2KO39hy"
      },
      "source": [
        "Hyperbolic Tangent"
      ]
    },
    {
      "cell_type": "code",
      "metadata": {
        "id": "Gs0hbUjs2Zz9"
      },
      "source": [
        "def tanhFunction(soma):\n",
        "  return (np.exp(soma) - np.exp(-soma)) / (np.exp(soma) + np.exp(-soma))"
      ],
      "execution_count": null,
      "outputs": []
    },
    {
      "cell_type": "code",
      "metadata": {
        "colab": {
          "base_uri": "https://localhost:8080/"
        },
        "id": "GV67-zBy4mRO",
        "outputId": "73b95dc8-3e71-49b9-b630-108ed727ffea"
      },
      "source": [
        "teste = tanhFunction(0.358)\n",
        "print(teste)"
      ],
      "execution_count": null,
      "outputs": [
        {
          "output_type": "stream",
          "name": "stdout",
          "text": [
            "0.3434511648102781\n"
          ]
        }
      ]
    },
    {
      "cell_type": "markdown",
      "metadata": {
        "id": "jdAYoJHI6Isf"
      },
      "source": [
        "ReLU"
      ]
    },
    {
      "cell_type": "code",
      "metadata": {
        "id": "K-9MTxps41aE"
      },
      "source": [
        "def reluFunction(soma):\n",
        "  if (soma >=0):\n",
        "    return soma\n",
        "  return 0  "
      ],
      "execution_count": null,
      "outputs": []
    },
    {
      "cell_type": "code",
      "metadata": {
        "colab": {
          "base_uri": "https://localhost:8080/"
        },
        "id": "ibRWfVHh6aOF",
        "outputId": "7eae2e19-7524-4ded-f972-ae775c945344"
      },
      "source": [
        "teste = relu(0.358)\n",
        "print(teste)"
      ],
      "execution_count": null,
      "outputs": [
        {
          "output_type": "stream",
          "name": "stdout",
          "text": [
            "0.358\n"
          ]
        }
      ]
    },
    {
      "cell_type": "code",
      "metadata": {
        "colab": {
          "base_uri": "https://localhost:8080/"
        },
        "id": "oAOF4wcb6s1J",
        "outputId": "11edf59d-c4b2-4942-c4ed-d7ee5b9a0276"
      },
      "source": [
        "teste = relu(-0.358)\n",
        "print(teste)"
      ],
      "execution_count": null,
      "outputs": [
        {
          "output_type": "stream",
          "name": "stdout",
          "text": [
            "0\n"
          ]
        }
      ]
    },
    {
      "cell_type": "markdown",
      "metadata": {
        "id": "vrtaSURT7cBz"
      },
      "source": [
        "Linear Function"
      ]
    },
    {
      "cell_type": "code",
      "metadata": {
        "id": "kupjBcfY6zEg"
      },
      "source": [
        "def linearFunction(soma):\n",
        "  return soma"
      ],
      "execution_count": null,
      "outputs": []
    },
    {
      "cell_type": "code",
      "metadata": {
        "colab": {
          "base_uri": "https://localhost:8080/"
        },
        "id": "AmXrEKwn7kgx",
        "outputId": "58d46574-e855-4f0a-bced-5fd10af749e7"
      },
      "source": [
        "teste = linearFunction(0.358)\n",
        "print(teste)"
      ],
      "execution_count": null,
      "outputs": [
        {
          "output_type": "stream",
          "name": "stdout",
          "text": [
            "0.358\n"
          ]
        }
      ]
    },
    {
      "cell_type": "markdown",
      "metadata": {
        "id": "LH7PJGoN8ysU"
      },
      "source": [
        "Softmax Function"
      ]
    },
    {
      "cell_type": "code",
      "metadata": {
        "id": "mqlSxWFe7skP"
      },
      "source": [
        "def sofmaxFunction(x):\n",
        "  ex = np.exp(x)\n",
        "  return ex / ex.sum()"
      ],
      "execution_count": null,
      "outputs": []
    },
    {
      "cell_type": "code",
      "metadata": {
        "colab": {
          "base_uri": "https://localhost:8080/"
        },
        "id": "xa8EchWq9NS7",
        "outputId": "b428539f-a9af-40d7-f4f4-7bade8772fbf"
      },
      "source": [
        "valores = [5.0, 2.0, 1.3]\n",
        "print(sofmaxFunction(valores))"
      ],
      "execution_count": null,
      "outputs": [
        {
          "output_type": "stream",
          "name": "stdout",
          "text": [
            "[0.93065625 0.04633465 0.0230091 ]\n"
          ]
        }
      ]
    },
    {
      "cell_type": "code",
      "metadata": {
        "id": "gPvSOnhT9ds4"
      },
      "source": [
        ""
      ],
      "execution_count": null,
      "outputs": []
    }
  ]
}