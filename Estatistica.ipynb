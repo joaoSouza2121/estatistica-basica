{
  "nbformat": 4,
  "nbformat_minor": 0,
  "metadata": {
    "colab": {
      "name": "Estatistica.ipynb",
      "provenance": [],
      "authorship_tag": "ABX9TyMjeiDdj3yqD+NT5Mxt5SQs",
      "include_colab_link": true
    },
    "kernelspec": {
      "name": "python3",
      "display_name": "Python 3"
    },
    "language_info": {
      "name": "python"
    }
  },
  "cells": [
    {
      "cell_type": "markdown",
      "metadata": {
        "id": "view-in-github",
        "colab_type": "text"
      },
      "source": [
        "<a href=\"https://colab.research.google.com/github/joaoSouza2121/estatistica-basica/blob/main/Estatistica.ipynb\" target=\"_parent\"><img src=\"https://colab.research.google.com/assets/colab-badge.svg\" alt=\"Open In Colab\"/></a>"
      ]
    },
    {
      "cell_type": "markdown",
      "metadata": {
        "id": "JCN5IglIEyKz"
      },
      "source": [
        "##Medidas de Posição"
      ]
    },
    {
      "cell_type": "markdown",
      "metadata": {
        "id": "BtMtdtAlE4aK"
      },
      "source": [
        "# Média Aritimética"
      ]
    },
    {
      "cell_type": "markdown",
      "metadata": {
        "id": "bvYdqW2yGcQn"
      },
      "source": [
        "Forma manual de realizar o cálculo"
      ]
    },
    {
      "cell_type": "code",
      "metadata": {
        "colab": {
          "base_uri": "https://localhost:8080/"
        },
        "id": "-MM8BfPJEulg",
        "outputId": "78a8ce5a-6197-442c-fb5b-021aed2e5767"
      },
      "source": [
        "\"\"\"\n",
        "Média Aritimética \n",
        "soma dos dados / n\n",
        "\"\"\"\n",
        "x = [18, 68, 368, 47]\n",
        "media = sum(x) / len(x)\n",
        "media"
      ],
      "execution_count": 1,
      "outputs": [
        {
          "output_type": "execute_result",
          "data": {
            "text/plain": [
              "125.25"
            ]
          },
          "metadata": {},
          "execution_count": 1
        }
      ]
    },
    {
      "cell_type": "markdown",
      "metadata": {
        "id": "QNXa6DKsGh_n"
      },
      "source": [
        "Usando uma função pronta da biblioteca numpy"
      ]
    },
    {
      "cell_type": "code",
      "metadata": {
        "colab": {
          "base_uri": "https://localhost:8080/"
        },
        "id": "61pdhbwEFynS",
        "outputId": "6a27c81c-368b-4767-d0b6-f8e37f54da6d"
      },
      "source": [
        "import numpy as np\n",
        "np.mean(x)"
      ],
      "execution_count": 2,
      "outputs": [
        {
          "output_type": "execute_result",
          "data": {
            "text/plain": [
              "125.25"
            ]
          },
          "metadata": {},
          "execution_count": 2
        }
      ]
    },
    {
      "cell_type": "markdown",
      "metadata": {
        "id": "YFiU3CtjHy9U"
      },
      "source": [
        "# Média Aritimética Ponderada"
      ]
    },
    {
      "cell_type": "code",
      "metadata": {
        "colab": {
          "base_uri": "https://localhost:8080/"
        },
        "id": "1GxH7iK-HAoJ",
        "outputId": "8b8eb5b4-24fc-490a-d16e-964cf3fe2859"
      },
      "source": [
        "\"\"\"\n",
        "Média Aritimética Ponderada\n",
        "soma(dados * pesos) / soma dos pesos\n",
        "\"\"\"\n",
        "pesos = [1, 2, 3, 4]\n",
        "notas = [8.4, 7.9, 9.3, 9.8]\n",
        "notasxpesos = [notas[i] * pesos[i] for i in range(0, len(notas))]\n",
        "media_pond = sum(notasxpesos) / sum(pesos)\n",
        "media_pond"
      ],
      "execution_count": 3,
      "outputs": [
        {
          "output_type": "execute_result",
          "data": {
            "text/plain": [
              "9.13"
            ]
          },
          "metadata": {},
          "execution_count": 3
        }
      ]
    },
    {
      "cell_type": "markdown",
      "metadata": {
        "id": "BOVsUB2iL9k6"
      },
      "source": [
        "# Média Harmônica e Média Harmônica Ponderada"
      ]
    },
    {
      "cell_type": "code",
      "metadata": {
        "id": "nsjwHPz_Jb8h"
      },
      "source": [
        "# Dados\n",
        "x = [10, 60, 360]\n",
        "y = [2, 2, 2, 2]"
      ],
      "execution_count": 4,
      "outputs": []
    },
    {
      "cell_type": "code",
      "metadata": {
        "colab": {
          "base_uri": "https://localhost:8080/"
        },
        "id": "4zn7HIHAMUNF",
        "outputId": "71b5ca18-6fe0-4400-916e-c0c3394efd3d"
      },
      "source": [
        "\"\"\"\n",
        "Mẽdia Harmônica (xh)\n",
        "xh = (1/(soma(1/xj)))\n",
        "xh = n/(sum(1/xj))\n",
        "\"\"\"\n",
        "nx = len(x)\n",
        "somaX = (1/x[0]) + (1/x[1]) + (1/x[2])\n",
        "print(f'Média Harmônica {nx} / {somaX:.4f}')"
      ],
      "execution_count": 5,
      "outputs": [
        {
          "output_type": "stream",
          "name": "stdout",
          "text": [
            "Média Harmônica 3 / 0.1194\n"
          ]
        }
      ]
    },
    {
      "cell_type": "code",
      "metadata": {
        "colab": {
          "base_uri": "https://localhost:8080/"
        },
        "id": "PbHwb4HjOhz_",
        "outputId": "ab905c1f-55f5-4170-f305-6577661bfc79"
      },
      "source": [
        "xH = nx / somaX\n",
        "print(f'Média Harmônica = {xH:.4f}')"
      ],
      "execution_count": 6,
      "outputs": [
        {
          "output_type": "stream",
          "name": "stdout",
          "text": [
            "Média Harmônica = 25.1163\n"
          ]
        }
      ]
    },
    {
      "cell_type": "code",
      "metadata": {
        "colab": {
          "base_uri": "https://localhost:8080/"
        },
        "id": "cl-Jd0aIPZwh",
        "outputId": "f779b6ff-9ce0-4b1a-c54f-8bbbe9da301a"
      },
      "source": [
        "# Cáculo com loop\n",
        "somaX = [(1/x[k]) for k in range(0, len(x))]\n",
        "somaX = sum(somaX)\n",
        "xh = nx / somaX\n",
        "xh"
      ],
      "execution_count": 7,
      "outputs": [
        {
          "output_type": "execute_result",
          "data": {
            "text/plain": [
              "25.11627906976744"
            ]
          },
          "metadata": {},
          "execution_count": 7
        }
      ]
    },
    {
      "cell_type": "markdown",
      "metadata": {
        "id": "0AnGLyJTUeC3"
      },
      "source": [
        "Uma pessoa comprou 4 camisas a 30,00 cada e 2 camisas por 50,00 cada.\n",
        "* 120 em camisas de 30,00\n",
        "* 100,00 em camisas de 50,00"
      ]
    },
    {
      "cell_type": "code",
      "metadata": {
        "id": "hGxg1_E8QHX5"
      },
      "source": [
        "# dados \n",
        "gastos = [120, 100]\n",
        "precos = [30, 50]\n",
        "qtdes = [4, 2]"
      ],
      "execution_count": 8,
      "outputs": []
    },
    {
      "cell_type": "code",
      "metadata": {
        "colab": {
          "base_uri": "https://localhost:8080/"
        },
        "id": "-X2enYrKVEl1",
        "outputId": "72029569-86c1-4906-8903-70a1dc04a07d"
      },
      "source": [
        "somaGastos = sum(gastos)\n",
        "ponderacao = ((gastos[0] * (1/precos[0])) + (gastos[1] * (1/precos[1])))\n",
        "print(somaGastos, ponderacao)"
      ],
      "execution_count": 9,
      "outputs": [
        {
          "output_type": "stream",
          "name": "stdout",
          "text": [
            "220 6.0\n"
          ]
        }
      ]
    },
    {
      "cell_type": "code",
      "metadata": {
        "colab": {
          "base_uri": "https://localhost:8080/"
        },
        "id": "CuMPdhzEV44q",
        "outputId": "03e91374-ccf4-4c19-df8d-545414e538d6"
      },
      "source": [
        "precohP = 1 / (ponderacao / somaGastos)\n",
        "print(f'Média harmônica ponderada dos preços: {precohP:.2f}')"
      ],
      "execution_count": 10,
      "outputs": [
        {
          "output_type": "stream",
          "name": "stdout",
          "text": [
            "Média harmônica ponderada dos preços: 36.67\n"
          ]
        }
      ]
    },
    {
      "cell_type": "code",
      "metadata": {
        "id": "LNBTCSO-WYhv"
      },
      "source": [
        "import numpy as np\n",
        "import statistics as sts "
      ],
      "execution_count": 11,
      "outputs": []
    },
    {
      "cell_type": "code",
      "metadata": {
        "colab": {
          "base_uri": "https://localhost:8080/"
        },
        "id": "YX77sa7lvieG",
        "outputId": "947d8cf5-407f-4834-f5f7-ae982e97e967"
      },
      "source": [
        "c = [0.5, 0.7]\n",
        "sts.harmonic_mean(c)"
      ],
      "execution_count": 12,
      "outputs": [
        {
          "output_type": "execute_result",
          "data": {
            "text/plain": [
              "0.5833333333333334"
            ]
          },
          "metadata": {},
          "execution_count": 12
        }
      ]
    },
    {
      "cell_type": "markdown",
      "metadata": {
        "id": "bfYsP5vMv5FS"
      },
      "source": [
        "# Média Quadrática"
      ]
    },
    {
      "cell_type": "code",
      "metadata": {
        "id": "YEaTGuaGvvqi"
      },
      "source": [
        "x = [2, 2, 2]\n",
        "y = [2, 3, 4, 5]"
      ],
      "execution_count": 13,
      "outputs": []
    },
    {
      "cell_type": "code",
      "metadata": {
        "colab": {
          "base_uri": "https://localhost:8080/"
        },
        "id": "UqDMrG92wJbE",
        "outputId": "bec6441f-a860-4b6b-d693-e2a4466c4b75"
      },
      "source": [
        "nX = len(x)\n",
        "somaX2 = [x[k] ** 2 for k in range(0, len(x))]\n",
        "somaX2 = sum(somaX2)\n",
        "somaX2"
      ],
      "execution_count": 14,
      "outputs": [
        {
          "output_type": "execute_result",
          "data": {
            "text/plain": [
              "12"
            ]
          },
          "metadata": {},
          "execution_count": 14
        }
      ]
    },
    {
      "cell_type": "code",
      "metadata": {
        "colab": {
          "base_uri": "https://localhost:8080/"
        },
        "id": "cF8XSIpAwvGV",
        "outputId": "6cb028e5-7cfa-4de1-f078-a9470de2a667"
      },
      "source": [
        "mediaQ_x = np.sqrt(somaX2 / nX)\n",
        "print(f'Média quadratica de {x}')\n",
        "mediaQ_x"
      ],
      "execution_count": 15,
      "outputs": [
        {
          "output_type": "stream",
          "name": "stdout",
          "text": [
            "Média quadratica de [2, 2, 2]\n"
          ]
        },
        {
          "output_type": "execute_result",
          "data": {
            "text/plain": [
              "2.0"
            ]
          },
          "metadata": {},
          "execution_count": 15
        }
      ]
    },
    {
      "cell_type": "code",
      "metadata": {
        "colab": {
          "base_uri": "https://localhost:8080/"
        },
        "id": "DofsfvEdxcto",
        "outputId": "1d4a86e7-6cbe-46d8-dbde-5357d9c94403"
      },
      "source": [
        "nY = len(y)\n",
        "somaY = sum([y[k] ** 2 for k in range(0, len(y))])\n",
        "somaY"
      ],
      "execution_count": 16,
      "outputs": [
        {
          "output_type": "execute_result",
          "data": {
            "text/plain": [
              "54"
            ]
          },
          "metadata": {},
          "execution_count": 16
        }
      ]
    },
    {
      "cell_type": "code",
      "metadata": {
        "colab": {
          "base_uri": "https://localhost:8080/"
        },
        "id": "1ncFwi12xQqw",
        "outputId": "c7463069-1318-4ee1-aa5c-65d9fc931381"
      },
      "source": [
        "mediaQ_y = np.sqrt(somaY / nY)\n",
        "print(f'Média quadratica de {y}')\n",
        "mediaQ_y"
      ],
      "execution_count": 18,
      "outputs": [
        {
          "output_type": "stream",
          "name": "stdout",
          "text": [
            "Média quadratica de [2, 3, 4, 5]\n"
          ]
        },
        {
          "output_type": "execute_result",
          "data": {
            "text/plain": [
              "3.6742346141747673"
            ]
          },
          "metadata": {},
          "execution_count": 18
        }
      ]
    },
    {
      "cell_type": "code",
      "metadata": {
        "colab": {
          "base_uri": "https://localhost:8080/"
        },
        "id": "1boS3BSXx6v5",
        "outputId": "8122b78c-a9b0-4b0e-b3d7-6d419ba267d0"
      },
      "source": [
        "\"\"\"\n",
        "Média quadrática ponderada\n",
        "mediaQP = raiz (soma(dados**2 * ponderacao)) / n\n",
        "\"\"\"\n",
        "dados = {3: 5,\n",
        "         5: 10,\n",
        "         7: 12,\n",
        "         9: 10,\n",
        "         11: 5}\n",
        "\n",
        "dados_list = [[3, 5, 7, 9, 11],\n",
        "              [5, 10, 12, 10, 5]\n",
        "              ]\n",
        "\n",
        "valores = list(dados.keys())\n",
        "valores\n"
      ],
      "execution_count": 19,
      "outputs": [
        {
          "output_type": "execute_result",
          "data": {
            "text/plain": [
              "[3, 5, 7, 9, 11]"
            ]
          },
          "metadata": {},
          "execution_count": 19
        }
      ]
    },
    {
      "cell_type": "markdown",
      "metadata": {
        "id": "eiTwr6Pgyfnb"
      },
      "source": [
        "# Calculando a frequência"
      ]
    },
    {
      "cell_type": "code",
      "metadata": {
        "colab": {
          "base_uri": "https://localhost:8080/"
        },
        "id": "TNk_PsxpydJc",
        "outputId": "285e16b8-d8ad-4453-c589-b9b5a2eb8471"
      },
      "source": [
        "freq = list(dados.values())\n",
        "freq"
      ],
      "execution_count": 20,
      "outputs": [
        {
          "output_type": "execute_result",
          "data": {
            "text/plain": [
              "[5, 10, 12, 10, 5]"
            ]
          },
          "metadata": {},
          "execution_count": 20
        }
      ]
    },
    {
      "cell_type": "code",
      "metadata": {
        "colab": {
          "base_uri": "https://localhost:8080/"
        },
        "id": "xAjrhJArysIM",
        "outputId": "a0000666-0e4f-4518-ef17-78178f281ce3"
      },
      "source": [
        "valores2 = [valores[k] ** 2 for k in range(0, len(valores))]\n",
        "valores2"
      ],
      "execution_count": 21,
      "outputs": [
        {
          "output_type": "execute_result",
          "data": {
            "text/plain": [
              "[9, 25, 49, 81, 121]"
            ]
          },
          "metadata": {},
          "execution_count": 21
        }
      ]
    },
    {
      "cell_type": "code",
      "metadata": {
        "colab": {
          "base_uri": "https://localhost:8080/"
        },
        "id": "Sc3AHOQVzBQ4",
        "outputId": "c678a400-bd77-45ef-d77f-f7973bb118ee"
      },
      "source": [
        "n = len(valores)\n",
        "val2Xfreq = [valores2[k] * freq[k] for k in range(0, n)]\n",
        "val2Xfreq"
      ],
      "execution_count": 22,
      "outputs": [
        {
          "output_type": "execute_result",
          "data": {
            "text/plain": [
              "[45, 250, 588, 810, 605]"
            ]
          },
          "metadata": {},
          "execution_count": 22
        }
      ]
    },
    {
      "cell_type": "code",
      "metadata": {
        "colab": {
          "base_uri": "https://localhost:8080/"
        },
        "id": "zNPMnsuLzf2F",
        "outputId": "6bf6d9fa-8fe8-4aee-bac7-3bf9e9acb59d"
      },
      "source": [
        "sum(val2Xfreq)"
      ],
      "execution_count": 23,
      "outputs": [
        {
          "output_type": "execute_result",
          "data": {
            "text/plain": [
              "2298"
            ]
          },
          "metadata": {},
          "execution_count": 23
        }
      ]
    },
    {
      "cell_type": "code",
      "metadata": {
        "colab": {
          "base_uri": "https://localhost:8080/"
        },
        "id": "s5VuAwEpzk7w",
        "outputId": "9906d730-4b0e-433a-9edc-650936fefb60"
      },
      "source": [
        "from pprint import pprint\n",
        "#Variável refere-se ao tamanho (n) do conjunto de dados\n",
        "nX = sum(freq)\n",
        "mediaQP_x = np.sqrt(sum(val2Xfreq) / nX)\n",
        "\n",
        "#Exibição dos resultados\n",
        "print(f'Média quadrática ponderada dos dados: {mediaQP_x:.3f}')\n",
        "print('Dados:\\nValor : Frequência')\n",
        "for k, v in dados.items():\n",
        "  print(f'{k:5}', f'{v:5}', sep=' : ')\n"
      ],
      "execution_count": 25,
      "outputs": [
        {
          "output_type": "stream",
          "name": "stdout",
          "text": [
            "Média quadrática ponderada dos dados: 7.397\n",
            "Dados:\n",
            "Valor : Frequência\n",
            "    3 :     5\n",
            "    5 :    10\n",
            "    7 :    12\n",
            "    9 :    10\n",
            "   11 :     5\n"
          ]
        }
      ]
    },
    {
      "cell_type": "markdown",
      "metadata": {
        "id": "gLYo3LBS0PDM"
      },
      "source": [
        "##Comparação de médias e relação empirica entre medidas de posição\n",
        "Cálculo da média aritimética do mesmo conjunto de dados para comparação das duas medidas.\n"
      ]
    },
    {
      "cell_type": "code",
      "metadata": {
        "colab": {
          "base_uri": "https://localhost:8080/"
        },
        "id": "YWji9Axt0GTC",
        "outputId": "3eb10fa8-a3d9-47f6-e16b-974f57683b41"
      },
      "source": [
        "valXfreq = [valores[k] * freq[k] for k in range(0, n)]\n",
        "valXfreq"
      ],
      "execution_count": 26,
      "outputs": [
        {
          "output_type": "execute_result",
          "data": {
            "text/plain": [
              "[15, 50, 84, 90, 55]"
            ]
          },
          "metadata": {},
          "execution_count": 26
        }
      ]
    },
    {
      "cell_type": "code",
      "metadata": {
        "colab": {
          "base_uri": "https://localhost:8080/"
        },
        "id": "bngjYsJ507sr",
        "outputId": "bb81e86e-cbbb-4249-ad98-6e46749c77ed"
      },
      "source": [
        "sum(valXfreq)"
      ],
      "execution_count": 27,
      "outputs": [
        {
          "output_type": "execute_result",
          "data": {
            "text/plain": [
              "294"
            ]
          },
          "metadata": {},
          "execution_count": 27
        }
      ]
    },
    {
      "cell_type": "code",
      "metadata": {
        "colab": {
          "base_uri": "https://localhost:8080/"
        },
        "id": "Fww7wjrj0_zi",
        "outputId": "7079ca91-36e2-41aa-b31d-7b34b9d0f5fb"
      },
      "source": [
        "media_x = sum(valXfreq) / nX\n",
        "media_x "
      ],
      "execution_count": 29,
      "outputs": [
        {
          "output_type": "execute_result",
          "data": {
            "text/plain": [
              "7.0"
            ]
          },
          "metadata": {},
          "execution_count": 29
        }
      ]
    },
    {
      "cell_type": "markdown",
      "metadata": {
        "id": "cj7KH9n01kbN"
      },
      "source": [
        "\n",
        "Relação empírica entre média, moda e mediana\n",
        "\n",
        "De forma simplificada:\n",
        "\n",
        "* Média: medida de tendência central para descrever resumidamente uma distribuição de frequência. Vide exemplos anteriores (diversas formas de obtenção) de um valor central dos dados\n",
        "* Mo - Moda: valor mais frequente no conjunto de dados\n",
        "* Md - Mediana: valor central do conjunto de dados em que ao menos 50% dos valores sejam iguais ou maiores a ela\n",
        "\n",
        "\n",
        "Condições para relações empíricas:\n",
        "\n",
        "1. Distribuição unimodal;\n",
        "2. Distribuição fracamente assimétrica;\n",
        "3. Número de observações grande e pequena escala de unidades que divide a distribuição.\n",
        "\n",
        "\n",
        "Relações:\n",
        "\n",
        "* média = (3Md - Mo) / 2\n",
        "* Mo = 3md - 2media\n",
        "* Md = (2media + Mo) / 3"
      ]
    },
    {
      "cell_type": "code",
      "metadata": {
        "id": "LoyimO421LCB"
      },
      "source": [
        "#Dados\n",
        "classes = ['5 |- 25',\n",
        "           '25 |- 45',\n",
        "           '45 |- 65',\n",
        "           '65 |- 85',\n",
        "           '85 |- 105',\n",
        "           '105 |- 125',\n",
        "           '125 |- 145',\n",
        "           '145 |- 165']\n",
        "k = 8\n",
        "usuarios_fj = [4, 6, 14, 26, 14, 8, 6, 2]\n",
        "n = sum(usuarios_fj)\n",
        "k = len(usuarios_fj)\n",
        "xj = [15, 35, 55, 75, 95, 115, 135, 155]\n",
        "usr_Acum_Fj = [4, 10, 24, 50, 64, 72, 78]"
      ],
      "execution_count": 30,
      "outputs": []
    },
    {
      "cell_type": "code",
      "metadata": {
        "colab": {
          "base_uri": "https://localhost:8080/"
        },
        "id": "saWvZqlA4-EW",
        "outputId": "234097d2-b12b-4e62-9d87-3546c5c32197"
      },
      "source": [
        "xjfj = [usuarios_fj[i] * xj[i] for i in range(0, len(usuarios_fj))]\n",
        "xjfj"
      ],
      "execution_count": 31,
      "outputs": [
        {
          "output_type": "execute_result",
          "data": {
            "text/plain": [
              "[60, 210, 770, 1950, 1330, 920, 810, 310]"
            ]
          },
          "metadata": {},
          "execution_count": 31
        }
      ]
    },
    {
      "cell_type": "code",
      "metadata": {
        "colab": {
          "base_uri": "https://localhost:8080/"
        },
        "id": "6ZX06PPz5fQZ",
        "outputId": "bab93652-8f82-4cc9-8e3b-77ef056f2c26"
      },
      "source": [
        "# calculo da media\n",
        "media = sum(xjfj) / n\n",
        "media"
      ],
      "execution_count": 32,
      "outputs": [
        {
          "output_type": "execute_result",
          "data": {
            "text/plain": [
              "79.5"
            ]
          },
          "metadata": {},
          "execution_count": 32
        }
      ]
    },
    {
      "cell_type": "markdown",
      "metadata": {
        "id": "mgY3utuI6IcX"
      },
      "source": [
        "# Mediana"
      ]
    },
    {
      "cell_type": "code",
      "metadata": {
        "id": "bXbwKysS5u15"
      },
      "source": [
        "\n",
        "#Mediana\n",
        "fMd = max(usuarios_fj) #Frequência da mediana\n",
        "posMd = usuarios_fj.index(fMd)\n",
        "classeMd = classes[posMd]\n",
        "l = 65 #Limite inferiro da classe mediana 65 |- 85\n",
        "c = 20 #Amplitude das classes\n",
        "eMd = n / 2 #Elemento mediano\n",
        "fAnt = usr_Acum_Fj[(usuarios_fj.index(fMd))-1] #Frequência anterior à mediana\n"
      ],
      "execution_count": 33,
      "outputs": []
    },
    {
      "cell_type": "code",
      "metadata": {
        "colab": {
          "base_uri": "https://localhost:8080/"
        },
        "id": "TzyZcnSq6Y99",
        "outputId": "ce271891-1f83-4b38-e8cb-cbf409f7be58"
      },
      "source": [
        "md = l + c * ((eMd - fAnt) / fMd)\n",
        "md"
      ],
      "execution_count": 34,
      "outputs": [
        {
          "output_type": "execute_result",
          "data": {
            "text/plain": [
              "77.3076923076923"
            ]
          },
          "metadata": {},
          "execution_count": 34
        }
      ]
    },
    {
      "cell_type": "markdown",
      "metadata": {
        "id": "Tskfs6Vs6pLV"
      },
      "source": [
        "# Moda"
      ]
    },
    {
      "cell_type": "code",
      "metadata": {
        "colab": {
          "base_uri": "https://localhost:8080/"
        },
        "id": "LRHJ3VAD6mWL",
        "outputId": "e6888484-25fb-49cf-dfd0-e9f2523587b1"
      },
      "source": [
        "#Moda calculada\n",
        "\"\"\"\n",
        "mo = l + c * (delta1) / (datal1 + delta2)\n",
        "delta1 = freq. classe modal - freq. da classe anterior\n",
        "delta2 = freq. classe modal - freq. da classe posterior\n",
        "\"\"\"\n",
        "f_ant = usuarios_fj[(usuarios_fj.index(fMd)) - 1] #Freq. classe anterior\n",
        "f_post = usuarios_fj[(usuarios_fj.index(fMd)) + 1] #Freq. classe posterior\n",
        "delta1 = fMd - f_ant\n",
        "delta2 = fMd - f_post\n",
        "\n",
        "#Aplicação da fórmula\n",
        "mo = l + c * delta1 / (delta1 + delta2)\n",
        "mo"
      ],
      "execution_count": 35,
      "outputs": [
        {
          "output_type": "execute_result",
          "data": {
            "text/plain": [
              "75.0"
            ]
          },
          "metadata": {},
          "execution_count": 35
        }
      ]
    },
    {
      "cell_type": "code",
      "metadata": {
        "colab": {
          "base_uri": "https://localhost:8080/"
        },
        "id": "_5hpBx8B7EQj",
        "outputId": "dbc16ca6-f37a-40ee-f6b2-12bffcc54dc0"
      },
      "source": [
        "# moda pela relação emipirica\n",
        "mo_emp = 3 * md - 2 * media\n",
        "mo_emp"
      ],
      "execution_count": 36,
      "outputs": [
        {
          "output_type": "execute_result",
          "data": {
            "text/plain": [
              "72.9230769230769"
            ]
          },
          "metadata": {},
          "execution_count": 36
        }
      ]
    },
    {
      "cell_type": "code",
      "metadata": {
        "colab": {
          "base_uri": "https://localhost:8080/"
        },
        "id": "aSLvivmA7TIk",
        "outputId": "11ff4cc6-cf1f-4c44-8ac9-c20753777770"
      },
      "source": [
        "# mediana pela relação empirica\n",
        "md_emp = (2 * media + mo) / 3\n",
        "md_emp"
      ],
      "execution_count": 39,
      "outputs": [
        {
          "output_type": "execute_result",
          "data": {
            "text/plain": [
              "78.0"
            ]
          },
          "metadata": {},
          "execution_count": 39
        }
      ]
    },
    {
      "cell_type": "code",
      "metadata": {
        "colab": {
          "base_uri": "https://localhost:8080/"
        },
        "id": "-vq2Uo3L7m07",
        "outputId": "9a58a03c-a9f2-4251-902f-1c9431a8cb94"
      },
      "source": [
        "# media pela relação empirica\n",
        "media_emp = (3 * md - mo) / 2\n",
        "media_emp"
      ],
      "execution_count": 41,
      "outputs": [
        {
          "output_type": "execute_result",
          "data": {
            "text/plain": [
              "78.46153846153845"
            ]
          },
          "metadata": {},
          "execution_count": 41
        }
      ]
    },
    {
      "cell_type": "code",
      "metadata": {
        "colab": {
          "base_uri": "https://localhost:8080/"
        },
        "id": "tB5LyMPv8FRh",
        "outputId": "5f18a5e8-9ca8-4b0f-fe16-268d06bdc851"
      },
      "source": [
        "\"\"\"\n",
        "As bibliotecas numpy e estatistics tem métodos para cálculo destas medidas\n",
        "de forma direta e simplificada\n",
        "\"\"\"\n",
        "import statistics as sts\n",
        "\n",
        "dados = [10, 10, 25, 32, 5]\n",
        "\n",
        "print('Média Mediana Moda\\n', np.mean(dados),\n",
        "      np.median(dados),\n",
        "      sts.mode(dados)\n",
        "      )"
      ],
      "execution_count": 42,
      "outputs": [
        {
          "output_type": "stream",
          "name": "stdout",
          "text": [
            "Média Mediana Moda\n",
            " 16.4 10.0 10\n"
          ]
        }
      ]
    },
    {
      "cell_type": "code",
      "metadata": {
        "colab": {
          "base_uri": "https://localhost:8080/",
          "height": 35
        },
        "id": "Gpqg59jK9Qsj",
        "outputId": "dfff3073-42ff-414b-a4b2-ef2dda7eba54"
      },
      "source": [
        "listaItens = ['SP', 'RJ','MG','SP','TO','RS','SC','SP','SC']\n",
        "sts.mode(listaItens)\n"
      ],
      "execution_count": 43,
      "outputs": [
        {
          "output_type": "execute_result",
          "data": {
            "application/vnd.google.colaboratory.intrinsic+json": {
              "type": "string"
            },
            "text/plain": [
              "'SP'"
            ]
          },
          "metadata": {},
          "execution_count": 43
        }
      ]
    },
    {
      "cell_type": "code",
      "metadata": {
        "id": "2Aljts-o9ZQq"
      },
      "source": [
        "\"\"\"\n",
        "Usar statistics.mode() com este conjunto de dados retorna um erro porque há mais de uma\n",
        "moda.\n",
        "Usar scipy.stats retorna apenas o menor valor entre as modas\n",
        "\"\"\"\n",
        "lista = [2, 5, 7, 4, 1, 9, 5, 9, 2, 6, 7, 9, 4, 3, 5, 7]\n",
        "#sts.mode(lista)\n",
        "from scipy import stats as s\n",
        "moda = s.mode(lista, axis=None)"
      ],
      "execution_count": 44,
      "outputs": []
    },
    {
      "cell_type": "code",
      "metadata": {
        "colab": {
          "base_uri": "https://localhost:8080/"
        },
        "id": "eyiHL0X79g-f",
        "outputId": "4280fc77-4fbf-4c98-83da-285e154445ee"
      },
      "source": [
        "moda"
      ],
      "execution_count": 45,
      "outputs": [
        {
          "output_type": "execute_result",
          "data": {
            "text/plain": [
              "ModeResult(mode=array([5]), count=array([3]))"
            ]
          },
          "metadata": {},
          "execution_count": 45
        }
      ]
    },
    {
      "cell_type": "code",
      "metadata": {
        "colab": {
          "base_uri": "https://localhost:8080/"
        },
        "id": "E8XAvdWU9jti",
        "outputId": "207e8252-cb22-45bf-8015-6f8bfc10c700"
      },
      "source": [
        "moda[0]"
      ],
      "execution_count": 46,
      "outputs": [
        {
          "output_type": "execute_result",
          "data": {
            "text/plain": [
              "array([5])"
            ]
          },
          "metadata": {},
          "execution_count": 46
        }
      ]
    },
    {
      "cell_type": "code",
      "metadata": {
        "colab": {
          "base_uri": "https://localhost:8080/"
        },
        "id": "vmkWllAW9yoI",
        "outputId": "9262acc2-4278-47ad-ec0f-bce3ad577b25"
      },
      "source": [
        "\n",
        "#Para verificar as múltiplas modas, usamos Counter e observamos most_common\n",
        "from collections import Counter\n",
        "freq_lista = Counter(lista)\n",
        "freq_lista.most_common()\n"
      ],
      "execution_count": 47,
      "outputs": [
        {
          "output_type": "execute_result",
          "data": {
            "text/plain": [
              "[(5, 3), (7, 3), (9, 3), (2, 2), (4, 2), (1, 1), (6, 1), (3, 1)]"
            ]
          },
          "metadata": {},
          "execution_count": 47
        }
      ]
    },
    {
      "cell_type": "markdown",
      "metadata": {
        "id": "xo1Gp_ti-T0c"
      },
      "source": [
        "como observado, as múltiplas modas do conjunto de dados são 5, 7 e 9, todas com 3 ocorrencias."
      ]
    },
    {
      "cell_type": "code",
      "metadata": {
        "colab": {
          "base_uri": "https://localhost:8080/"
        },
        "id": "Ug6nePPt-Lp9",
        "outputId": "82052fdb-b124-4063-aa3f-4b6bb6a19b38"
      },
      "source": [
        "# mediana\n",
        "np.median(lista)"
      ],
      "execution_count": 48,
      "outputs": [
        {
          "output_type": "execute_result",
          "data": {
            "text/plain": [
              "5.0"
            ]
          },
          "metadata": {},
          "execution_count": 48
        }
      ]
    },
    {
      "cell_type": "code",
      "metadata": {
        "colab": {
          "base_uri": "https://localhost:8080/"
        },
        "id": "kF4XL5qt-sUs",
        "outputId": "f31c8a19-84ce-401f-9a10-a247320326a2"
      },
      "source": [
        "# media\n",
        "np.mean(lista)"
      ],
      "execution_count": 49,
      "outputs": [
        {
          "output_type": "execute_result",
          "data": {
            "text/plain": [
              "5.3125"
            ]
          },
          "metadata": {},
          "execution_count": 49
        }
      ]
    },
    {
      "cell_type": "markdown",
      "metadata": {
        "id": "duQ1g6q2_edz"
      },
      "source": [
        "##Quartis, decis e percentis ou centis\n",
        "Medidas dividem os dados em partes iguais:\n",
        "\n",
        "* Quartis: quatro partes\n",
        "* Decis: dez partes\n",
        "* Centis: cem partes"
      ]
    },
    {
      "cell_type": "code",
      "metadata": {
        "colab": {
          "base_uri": "https://localhost:8080/"
        },
        "id": "qEx4a6kg-0xv",
        "outputId": "06c383c4-949e-4c26-a3ea-3fbe2cef40df"
      },
      "source": [
        "import pandas as pd\n",
        "serie = pd.Series(lista)\n",
        "serie"
      ],
      "execution_count": 50,
      "outputs": [
        {
          "output_type": "execute_result",
          "data": {
            "text/plain": [
              "0     2\n",
              "1     5\n",
              "2     7\n",
              "3     4\n",
              "4     1\n",
              "5     9\n",
              "6     5\n",
              "7     9\n",
              "8     2\n",
              "9     6\n",
              "10    7\n",
              "11    9\n",
              "12    4\n",
              "13    3\n",
              "14    5\n",
              "15    7\n",
              "dtype: int64"
            ]
          },
          "metadata": {},
          "execution_count": 50
        }
      ]
    },
    {
      "cell_type": "code",
      "metadata": {
        "colab": {
          "base_uri": "https://localhost:8080/"
        },
        "id": "yHIGEW4Z_xrq",
        "outputId": "74c1973a-7870-49bf-aea6-dd5e68f1235d"
      },
      "source": [
        "#Quatis\n",
        "quartis = list(np.quantile(serie, [0.25, 0.5, 0.75, 1]))\n",
        "quartis"
      ],
      "execution_count": 51,
      "outputs": [
        {
          "output_type": "execute_result",
          "data": {
            "text/plain": [
              "[3.75, 5.0, 7.0, 9.0]"
            ]
          },
          "metadata": {},
          "execution_count": 51
        }
      ]
    },
    {
      "cell_type": "code",
      "metadata": {
        "colab": {
          "base_uri": "https://localhost:8080/"
        },
        "id": "-0ZjLOycAKxZ",
        "outputId": "919ed38d-80eb-473a-fca7-dbe9983d206a"
      },
      "source": [
        "# Cálculo manual -> colocar os dados em rol\n",
        "lista_ord = sorted(lista)\n",
        "n = len(lista_ord)\n",
        "lista_ord"
      ],
      "execution_count": 52,
      "outputs": [
        {
          "output_type": "execute_result",
          "data": {
            "text/plain": [
              "[1, 2, 2, 3, 4, 4, 5, 5, 5, 6, 7, 7, 7, 9, 9, 9]"
            ]
          },
          "metadata": {},
          "execution_count": 52
        }
      ]
    },
    {
      "cell_type": "code",
      "metadata": {
        "colab": {
          "base_uri": "https://localhost:8080/"
        },
        "id": "heTBa-QZAf01",
        "outputId": "1e95cfe0-2042-4eef-f44e-60facf8cf737"
      },
      "source": [
        "\n",
        "q1_m = int(n / 4)\n",
        "q2_m = int((2 * n) / 4)\n",
        "q3_m = int((3 * n) / 4)\n",
        "print('Quartis:\\n', q1_m, q2_m, q3_m)"
      ],
      "execution_count": 53,
      "outputs": [
        {
          "output_type": "stream",
          "name": "stdout",
          "text": [
            "Quartis:\n",
            " 4 8 12\n"
          ]
        }
      ]
    },
    {
      "cell_type": "code",
      "metadata": {
        "colab": {
          "base_uri": "https://localhost:8080/"
        },
        "id": "ZgcKCeDVBI_z",
        "outputId": "a955ba16-f882-43b3-bfeb-007e97bac159"
      },
      "source": [
        "lista_por_quartis = []\n",
        "lista_por_quartis.append([lista_ord[k] for k in range(0, q1_m)])\n",
        "lista_por_quartis.append([lista_ord[k] for k in range(0, q2_m)])\n",
        "lista_por_quartis.append([lista_ord[k] for k in range(0, q3_m)])\n",
        "lista_por_quartis"
      ],
      "execution_count": 54,
      "outputs": [
        {
          "output_type": "execute_result",
          "data": {
            "text/plain": [
              "[[1, 2, 2, 3], [1, 2, 2, 3, 4, 4, 5, 5], [1, 2, 2, 3, 4, 4, 5, 5, 5, 6, 7, 7]]"
            ]
          },
          "metadata": {},
          "execution_count": 54
        }
      ]
    },
    {
      "cell_type": "code",
      "metadata": {
        "colab": {
          "base_uri": "https://localhost:8080/"
        },
        "id": "kTe7LBU2BUH8",
        "outputId": "519b5ebf-4b5e-43fc-9bf0-642b7b798fe2"
      },
      "source": [
        "#usando list comprehension\n",
        "q1 = [lista[k]\n",
        "      for k in range(0, len(lista))\n",
        "      if lista[k] <= quartis[0]]\n",
        "q1"
      ],
      "execution_count": 55,
      "outputs": [
        {
          "output_type": "execute_result",
          "data": {
            "text/plain": [
              "[2, 1, 2, 3]"
            ]
          },
          "metadata": {},
          "execution_count": 55
        }
      ]
    },
    {
      "cell_type": "code",
      "metadata": {
        "colab": {
          "base_uri": "https://localhost:8080/"
        },
        "id": "XkYjVk0XCQPL",
        "outputId": "ae7bfbef-6539-42f0-d7e2-f1dacead6ed0"
      },
      "source": [
        "q2 = [lista[k]\n",
        "      for k in range(0, len(lista))\n",
        "      if lista[k] > quartis[0] and lista[k] <= quartis[1]]\n",
        "q2"
      ],
      "execution_count": 56,
      "outputs": [
        {
          "output_type": "execute_result",
          "data": {
            "text/plain": [
              "[5, 4, 5, 4, 5]"
            ]
          },
          "metadata": {},
          "execution_count": 56
        }
      ]
    },
    {
      "cell_type": "code",
      "metadata": {
        "colab": {
          "base_uri": "https://localhost:8080/"
        },
        "id": "aHSBQjfECU2v",
        "outputId": "cf9bf0c7-2583-41af-adfb-caa454ee9367"
      },
      "source": [
        "q3 = [lista[k]\n",
        "      for k in range(0, len(lista))\n",
        "      if lista[k] > quartis[1] and lista[k] <= quartis[2]]\n",
        "q3"
      ],
      "execution_count": 57,
      "outputs": [
        {
          "output_type": "execute_result",
          "data": {
            "text/plain": [
              "[7, 6, 7, 7]"
            ]
          },
          "metadata": {},
          "execution_count": 57
        }
      ]
    },
    {
      "cell_type": "code",
      "metadata": {
        "colab": {
          "base_uri": "https://localhost:8080/"
        },
        "id": "5LOMYHYpCZ1G",
        "outputId": "26fabb9b-a9a0-4215-90cb-a3dbe17514b9"
      },
      "source": [
        "q4 = [lista[k]\n",
        "      for k in range(0, len(lista))\n",
        "      if lista[k] > quartis[2]]\n",
        "q4"
      ],
      "execution_count": 58,
      "outputs": [
        {
          "output_type": "execute_result",
          "data": {
            "text/plain": [
              "[9, 9, 9]"
            ]
          },
          "metadata": {},
          "execution_count": 58
        }
      ]
    },
    {
      "cell_type": "code",
      "metadata": {
        "colab": {
          "base_uri": "https://localhost:8080/"
        },
        "id": "nAUJcukhCeSr",
        "outputId": "c14c7158-4b86-4d4c-f364-3bf2d6746323"
      },
      "source": [
        "lista_ord"
      ],
      "execution_count": 59,
      "outputs": [
        {
          "output_type": "execute_result",
          "data": {
            "text/plain": [
              "[1, 2, 2, 3, 4, 4, 5, 5, 5, 6, 7, 7, 7, 9, 9, 9]"
            ]
          },
          "metadata": {},
          "execution_count": 59
        }
      ]
    },
    {
      "cell_type": "markdown",
      "metadata": {
        "id": "JxhV2NAuCphB"
      },
      "source": [
        "##Visualização gráfica de medidas estatísticas"
      ]
    },
    {
      "cell_type": "markdown",
      "metadata": {
        "id": "9qUv2HflCzDZ"
      },
      "source": [
        "# matplotlib -> biblioteca para criação de gráficos"
      ]
    },
    {
      "cell_type": "code",
      "metadata": {
        "id": "nhwl9G4FClXt"
      },
      "source": [
        "import matplotlib.pyplot as plt\n"
      ],
      "execution_count": 60,
      "outputs": []
    },
    {
      "cell_type": "markdown",
      "metadata": {
        "id": "uLPzCPpKDhSZ"
      },
      "source": [
        "Quartis através do Box Plot\n",
        "A figura 1 exibe um boxplot e os principais elementos estatísticos que ele representa. Como pode ser visto, sua análise permite de forma simplificada identificar diversas informações sobre o conjunto de dados estudo.\n",
        "\n",
        "Dois elementos principais devem chamar a atenção assim que o gráfico é gerado:\n",
        "\n",
        "Primeiramente deve-se buscar identificar se há valores acima do limite superior ou abaixo do limite inferior, o que indica que há outliers (valores discrepantes) no conjunto de dados que necessitem de tratamento seja pela sua remoção ou pela identificação do motivo de sua existência, conforme o tipo de análise que se deseja efetuar.\n",
        "Em seguida deve ser analisada a posição da reta que corta a \"caixa\", pois esta indica a mediana dos dados e a partir dela fica visualmente mais fácil analisar a distribuição, pois um segmento de caixa maior para um lado ou para outro indica uma maior ou menor concentração dos dados naquela faixa de valores.\n",
        "boxplot\n",
        "![image.png](data:image/png;base64,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)\n",
        "\n",
        "Figura 1 - Medidas estatísticas em um boxplot\n",
        "\n",
        "Por fim, além das duas análises iniciais, uma vez identificação a presença ou ausência de outliers e a mediana do conjunto de dados, pode-se analisar com mais detalhes a distribuição dos dados pelos quartis."
      ]
    },
    {
      "cell_type": "code",
      "metadata": {
        "colab": {
          "base_uri": "https://localhost:8080/",
          "height": 265
        },
        "id": "tiDjs8zWC_EJ",
        "outputId": "bf3a6811-1b5d-4111-ceac-8f00a8cb91fa"
      },
      "source": [
        "# Visualizando dos quartis através do box plot\n",
        "plt.boxplot(lista)\n",
        "plt.show()"
      ],
      "execution_count": 61,
      "outputs": [
        {
          "output_type": "display_data",
          "data": {
            "image/png": "[encoded data removed]",
            "text/plain": [
              "<Figure size 432x288 with 1 Axes>"
            ]
          },
          "metadata": {
            "needs_background": "light"
          }
        }
      ]
    },
    {
      "cell_type": "markdown",
      "metadata": {
        "id": "5AXuJWKjEuKN"
      },
      "source": [
        "# Média e Mediana"
      ]
    },
    {
      "cell_type": "code",
      "metadata": {
        "id": "k8Gbo1HJESAN"
      },
      "source": [
        "# Biblioteca para carga de dados\n",
        "import pandas as pd\n"
      ],
      "execution_count": 62,
      "outputs": []
    },
    {
      "cell_type": "code",
      "metadata": {
        "colab": {
          "base_uri": "https://localhost:8080/",
          "height": 204
        },
        "id": "8CPzZvvdE5W_",
        "outputId": "e7ba57fe-b8ea-4613-ce30-53d71537d6ee"
      },
      "source": [
        "arquivo = 'https://raw.githubusercontent.com/janiosl/python.ds/master/data/yahoo_stock_12-12-2020.csv'\n",
        "acoes = pd.read_csv(arquivo)\n",
        "acoes.head()"
      ],
      "execution_count": 63,
      "outputs": [
        {
          "output_type": "execute_result",
          "data": {
            "text/html": [
              "<div>\n",
              "<style scoped>\n",
              "    .dataframe tbody tr th:only-of-type {\n",
              "        vertical-align: middle;\n",
              "    }\n",
              "\n",
              "    .dataframe tbody tr th {\n",
              "        vertical-align: top;\n",
              "    }\n",
              "\n",
              "    .dataframe thead th {\n",
              "        text-align: right;\n",
              "    }\n",
              "</style>\n",
              "<table border=\"1\" class=\"dataframe\">\n",
              "  <thead>\n",
              "    <tr style=\"text-align: right;\">\n",
              "      <th></th>\n",
              "      <th>Ticker</th>\n",
              "      <th>Date</th>\n",
              "      <th>High</th>\n",
              "      <th>Low</th>\n",
              "      <th>Open</th>\n",
              "      <th>Close</th>\n",
              "      <th>Volume</th>\n",
              "      <th>Adj Close</th>\n",
              "    </tr>\n",
              "  </thead>\n",
              "  <tbody>\n",
              "    <tr>\n",
              "      <th>0</th>\n",
              "      <td>GGBR4.SA</td>\n",
              "      <td>2010-01-04</td>\n",
              "      <td>29.799999</td>\n",
              "      <td>29.280001</td>\n",
              "      <td>29.299999</td>\n",
              "      <td>29.600000</td>\n",
              "      <td>2827700.0</td>\n",
              "      <td>25.257845</td>\n",
              "    </tr>\n",
              "    <tr>\n",
              "      <th>1</th>\n",
              "      <td>GGBR4.SA</td>\n",
              "      <td>2010-01-05</td>\n",
              "      <td>30.170000</td>\n",
              "      <td>29.650000</td>\n",
              "      <td>29.740000</td>\n",
              "      <td>30.100000</td>\n",
              "      <td>4480400.0</td>\n",
              "      <td>25.684504</td>\n",
              "    </tr>\n",
              "    <tr>\n",
              "      <th>2</th>\n",
              "      <td>GGBR4.SA</td>\n",
              "      <td>2010-01-06</td>\n",
              "      <td>30.379999</td>\n",
              "      <td>29.860001</td>\n",
              "      <td>29.959999</td>\n",
              "      <td>30.299999</td>\n",
              "      <td>4499900.0</td>\n",
              "      <td>25.855158</td>\n",
              "    </tr>\n",
              "    <tr>\n",
              "      <th>3</th>\n",
              "      <td>GGBR4.SA</td>\n",
              "      <td>2010-01-07</td>\n",
              "      <td>30.379999</td>\n",
              "      <td>29.520000</td>\n",
              "      <td>30.100000</td>\n",
              "      <td>29.620001</td>\n",
              "      <td>5695900.0</td>\n",
              "      <td>25.274918</td>\n",
              "    </tr>\n",
              "    <tr>\n",
              "      <th>4</th>\n",
              "      <td>GGBR4.SA</td>\n",
              "      <td>2010-01-08</td>\n",
              "      <td>29.879999</td>\n",
              "      <td>29.350000</td>\n",
              "      <td>29.719999</td>\n",
              "      <td>29.540001</td>\n",
              "      <td>4269500.0</td>\n",
              "      <td>25.206648</td>\n",
              "    </tr>\n",
              "  </tbody>\n",
              "</table>\n",
              "</div>"
            ],
            "text/plain": [
              "     Ticker        Date       High  ...      Close     Volume  Adj Close\n",
              "0  GGBR4.SA  2010-01-04  29.799999  ...  29.600000  2827700.0  25.257845\n",
              "1  GGBR4.SA  2010-01-05  30.170000  ...  30.100000  4480400.0  25.684504\n",
              "2  GGBR4.SA  2010-01-06  30.379999  ...  30.299999  4499900.0  25.855158\n",
              "3  GGBR4.SA  2010-01-07  30.379999  ...  29.620001  5695900.0  25.274918\n",
              "4  GGBR4.SA  2010-01-08  29.879999  ...  29.540001  4269500.0  25.206648\n",
              "\n",
              "[5 rows x 8 columns]"
            ]
          },
          "metadata": {},
          "execution_count": 63
        }
      ]
    },
    {
      "cell_type": "markdown",
      "metadata": {
        "id": "0bqPv9jgFYj7"
      },
      "source": [
        "\n",
        "No trecho a seguir filtramos a coluna \"Close\" do conjunto de dados, que apresenta o preço de fechamento da ação analisada, e calculamos a media e mediana dos primeiros 30 dias. A representação gráfica permite difenciarmos as duas medidas de posição.\n"
      ]
    },
    {
      "cell_type": "code",
      "metadata": {
        "colab": {
          "base_uri": "https://localhost:8080/"
        },
        "id": "CStsByDbE8NM",
        "outputId": "2a0e0d97-b3b0-4efd-ac26-38dacaf64d77"
      },
      "source": [
        "media = acoes.Close[:30].mean()\n",
        "media"
      ],
      "execution_count": 64,
      "outputs": [
        {
          "output_type": "execute_result",
          "data": {
            "text/plain": [
              "27.25600020090739"
            ]
          },
          "metadata": {},
          "execution_count": 64
        }
      ]
    },
    {
      "cell_type": "code",
      "metadata": {
        "colab": {
          "base_uri": "https://localhost:8080/"
        },
        "id": "yiBvHpqZFq7c",
        "outputId": "b3ebe18e-a56e-425f-bfe6-466b2906f332"
      },
      "source": [
        "mediana = acoes.Close[:30].median()\n",
        "mediana"
      ],
      "execution_count": 65,
      "outputs": [
        {
          "output_type": "execute_result",
          "data": {
            "text/plain": [
              "26.46500015258789"
            ]
          },
          "metadata": {},
          "execution_count": 65
        }
      ]
    },
    {
      "cell_type": "code",
      "metadata": {
        "colab": {
          "base_uri": "https://localhost:8080/",
          "height": 265
        },
        "id": "UGiydwU5F31v",
        "outputId": "8788d99e-c4f5-4297-f7a5-c74ef14da70f"
      },
      "source": [
        "plt.plot(acoes.Close[:30])\n",
        "#plt.plot([media for k in range(0, len(acoes.Close[:30]))], '--')\n",
        "plt.plot([mediana for k in range(0, len(acoes.Close[:30]))], '.')\n",
        "plt.legend(['Preço', 'Média de Preços', 'Mediana de Preços'])\n",
        "plt.show()"
      ],
      "execution_count": 66,
      "outputs": [
        {
          "output_type": "display_data",
          "data": {
            "image/png": "[encoded data removed]",
            "text/plain": [
              "<Figure size 432x288 with 1 Axes>"
            ]
          },
          "metadata": {
            "needs_background": "light"
          }
        }
      ]
    },
    {
      "cell_type": "markdown",
      "metadata": {
        "id": "r-VlZLViHRkq"
      },
      "source": [
        "##Análise de Frequência com Histograma e Box Plot\n",
        "O gráfico de histograma permite analisar a distribuição de frequência dos dados ao longo das faixas de valores, exibindo barras verticais que representam a concentração de dados em cada faixa de valor. A intuição principal que se pode tirar na primeira visualização dos dados é tentar identificar a localização da maior concentração de dados, que indicaria o posicionamento do ponto médio daquele conjunto de dados.\n",
        "\n",
        "Outra análise importante é verificar a distribuição dos dados, para identificar se ela é simétrica (Figura 2), ou seja, aproximadamente metade dos dados estão respectivamente à direita e à esquerda do ponto médio.\n",
        "\n",
        "![image.png](data:image/png;base64,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)\n",
        "\n",
        "![image.png](data:image/png;base64,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)\n",
        "\n",
        "![image.png](data:image/png;base64,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)\n",
        "\n",
        "Continuando a análise do conjunto de dados de preço de ações, a seguir é apresentado o histograma do preço de fechamento de ações (Close) para o período completo."
      ]
    },
    {
      "cell_type": "code",
      "metadata": {
        "colab": {
          "base_uri": "https://localhost:8080/",
          "height": 295
        },
        "id": "awx_TG3NGAyy",
        "outputId": "5d387374-d27d-40d4-a8d6-d55bd0e33ac1"
      },
      "source": [
        "plt.hist(acoes.Close)\n",
        "plt.title('Histograma do Preço de Ações - Período Completo')\n",
        "plt.xlabel('Faixas de Valores')\n",
        "plt.ylabel('Contagem de Observações')\n",
        "plt.show()"
      ],
      "execution_count": 67,
      "outputs": [
        {
          "output_type": "display_data",
          "data": {
            "image/png": "[encoded data removed]",
            "text/plain": [
              "<Figure size 432x288 with 1 Axes>"
            ]
          },
          "metadata": {
            "needs_background": "light"
          }
        }
      ]
    },
    {
      "cell_type": "markdown",
      "metadata": {
        "id": "AP6P4k1LItLT"
      },
      "source": [
        "\n",
        "À primeira vista os dados parecem ser simétricos, mas uma observação atenta, indica que há valores discrepantes puxando um pouco a calda dos dados para esquerda.\n",
        "\n",
        "A geração do boxplot pode confirmar ou rejeitar esta análise inicial. Como pode ser visto na visualização deste gráfico gerada para o mesmo período, de fato há outliers após o limite superior do gráfico."
      ]
    },
    {
      "cell_type": "code",
      "metadata": {
        "colab": {
          "base_uri": "https://localhost:8080/",
          "height": 265
        },
        "id": "tEkZ-4QWIAFx",
        "outputId": "5774a30c-85b7-44f0-9a18-09b5a2140381"
      },
      "source": [
        "plt.boxplot(acoes.Close)\n",
        "plt.show()"
      ],
      "execution_count": 68,
      "outputs": [
        {
          "output_type": "display_data",
          "data": {
            "image/png": "[encoded data removed]",
            "text/plain": [
              "<Figure size 432x288 with 1 Axes>"
            ]
          },
          "metadata": {
            "needs_background": "light"
          }
        }
      ]
    },
    {
      "cell_type": "markdown",
      "metadata": {
        "id": "LsctiIxwJAkT"
      },
      "source": [
        "\n",
        "Agora é feito um zoom nos dados, filtrando apenas os primeiros 30 dias do período estudo. A geração dos mesmos dados, demonstram que a distribuição dos valores naquele período é bem diferente do comportamento dos dados quando analisado o período completo."
      ]
    },
    {
      "cell_type": "code",
      "metadata": {
        "colab": {
          "base_uri": "https://localhost:8080/",
          "height": 295
        },
        "id": "OZ3J_9L7I5IB",
        "outputId": "1e36e971-c173-424d-d62b-363d396dec59"
      },
      "source": [
        "\n",
        "dias = 30\n",
        "plt.hist(acoes.Close[:dias])\n",
        "plt.title(f'Histograma do Preço de Ações - Primeiros {dias} dias')\n",
        "plt.xlabel('Faixas de Valores')\n",
        "plt.ylabel('Contagem de Observações')\n",
        "plt.show()"
      ],
      "execution_count": 69,
      "outputs": [
        {
          "output_type": "display_data",
          "data": {
            "image/png": "[encoded data removed]",
            "text/plain": [
              "<Figure size 432x288 with 1 Axes>"
            ]
          },
          "metadata": {
            "needs_background": "light"
          }
        }
      ]
    },
    {
      "cell_type": "code",
      "metadata": {
        "colab": {
          "base_uri": "https://localhost:8080/",
          "height": 265
        },
        "id": "XJuCP0R-JRNV",
        "outputId": "473d15f5-933f-4930-a674-cc4713945e50"
      },
      "source": [
        "plt.boxplot(acoes.Close[:30])\n",
        "plt.show()"
      ],
      "execution_count": 70,
      "outputs": [
        {
          "output_type": "display_data",
          "data": {
            "image/png": "[encoded data removed]",
            "text/plain": [
              "<Figure size 432x288 with 1 Axes>"
            ]
          },
          "metadata": {
            "needs_background": "light"
          }
        }
      ]
    },
    {
      "cell_type": "markdown",
      "metadata": {
        "id": "hgw-eDulKN7Z"
      },
      "source": [
        "Por fim, carregamos outro conjunto de dados que apresenta o preço médio de casas no estado da Califórnia nos Estados Unidos e diversas características dos imóveis analisados que podem ser usadas em tarefas de regressão para predição do preço de novos imóveis.\n",
        "\n",
        "Aqui fazemos apenas a geração dos gráfico da distribuição do preço médio usando os mesmos gráficos de histograma e boxplot, para ilustrar que em cenários reais o comportamento dos dados pode ser bem diferente dos exemplos didáticos mais simples. Deixamos para seu estudo a análise do significado dos dois gráficos para este conjunto de dados."
      ]
    },
    {
      "cell_type": "code",
      "metadata": {
        "id": "CZr7LQ2pJgJa"
      },
      "source": [
        "\n",
        "arquivo = 'https://raw.githubusercontent.com/janiosl/python.ds/master/data/housing.csv'\n",
        "casas = pd.read_csv(arquivo)\n"
      ],
      "execution_count": 71,
      "outputs": []
    },
    {
      "cell_type": "code",
      "metadata": {
        "colab": {
          "base_uri": "https://localhost:8080/",
          "height": 224
        },
        "id": "Lws6_DxuKVhm",
        "outputId": "b433134a-fe80-4c4f-c629-870ab558354b"
      },
      "source": [
        "casas.head()"
      ],
      "execution_count": 72,
      "outputs": [
        {
          "output_type": "execute_result",
          "data": {
            "text/html": [
              "<div>\n",
              "<style scoped>\n",
              "    .dataframe tbody tr th:only-of-type {\n",
              "        vertical-align: middle;\n",
              "    }\n",
              "\n",
              "    .dataframe tbody tr th {\n",
              "        vertical-align: top;\n",
              "    }\n",
              "\n",
              "    .dataframe thead th {\n",
              "        text-align: right;\n",
              "    }\n",
              "</style>\n",
              "<table border=\"1\" class=\"dataframe\">\n",
              "  <thead>\n",
              "    <tr style=\"text-align: right;\">\n",
              "      <th></th>\n",
              "      <th>longitude</th>\n",
              "      <th>latitude</th>\n",
              "      <th>housing_median_age</th>\n",
              "      <th>total_rooms</th>\n",
              "      <th>total_bedrooms</th>\n",
              "      <th>population</th>\n",
              "      <th>households</th>\n",
              "      <th>median_income</th>\n",
              "      <th>median_house_value</th>\n",
              "      <th>ocean_proximity</th>\n",
              "    </tr>\n",
              "  </thead>\n",
              "  <tbody>\n",
              "    <tr>\n",
              "      <th>0</th>\n",
              "      <td>-122.23</td>\n",
              "      <td>37.88</td>\n",
              "      <td>41.0</td>\n",
              "      <td>880.0</td>\n",
              "      <td>129.0</td>\n",
              "      <td>322.0</td>\n",
              "      <td>126.0</td>\n",
              "      <td>8.3252</td>\n",
              "      <td>452600.0</td>\n",
              "      <td>NEAR BAY</td>\n",
              "    </tr>\n",
              "    <tr>\n",
              "      <th>1</th>\n",
              "      <td>-122.22</td>\n",
              "      <td>37.86</td>\n",
              "      <td>21.0</td>\n",
              "      <td>7099.0</td>\n",
              "      <td>1106.0</td>\n",
              "      <td>2401.0</td>\n",
              "      <td>1138.0</td>\n",
              "      <td>8.3014</td>\n",
              "      <td>358500.0</td>\n",
              "      <td>NEAR BAY</td>\n",
              "    </tr>\n",
              "    <tr>\n",
              "      <th>2</th>\n",
              "      <td>-122.24</td>\n",
              "      <td>37.85</td>\n",
              "      <td>52.0</td>\n",
              "      <td>1467.0</td>\n",
              "      <td>190.0</td>\n",
              "      <td>496.0</td>\n",
              "      <td>177.0</td>\n",
              "      <td>7.2574</td>\n",
              "      <td>352100.0</td>\n",
              "      <td>NEAR BAY</td>\n",
              "    </tr>\n",
              "    <tr>\n",
              "      <th>3</th>\n",
              "      <td>-122.25</td>\n",
              "      <td>37.85</td>\n",
              "      <td>52.0</td>\n",
              "      <td>1274.0</td>\n",
              "      <td>235.0</td>\n",
              "      <td>558.0</td>\n",
              "      <td>219.0</td>\n",
              "      <td>5.6431</td>\n",
              "      <td>341300.0</td>\n",
              "      <td>NEAR BAY</td>\n",
              "    </tr>\n",
              "    <tr>\n",
              "      <th>4</th>\n",
              "      <td>-122.25</td>\n",
              "      <td>37.85</td>\n",
              "      <td>52.0</td>\n",
              "      <td>1627.0</td>\n",
              "      <td>280.0</td>\n",
              "      <td>565.0</td>\n",
              "      <td>259.0</td>\n",
              "      <td>3.8462</td>\n",
              "      <td>342200.0</td>\n",
              "      <td>NEAR BAY</td>\n",
              "    </tr>\n",
              "  </tbody>\n",
              "</table>\n",
              "</div>"
            ],
            "text/plain": [
              "   longitude  latitude  ...  median_house_value  ocean_proximity\n",
              "0    -122.23     37.88  ...            452600.0         NEAR BAY\n",
              "1    -122.22     37.86  ...            358500.0         NEAR BAY\n",
              "2    -122.24     37.85  ...            352100.0         NEAR BAY\n",
              "3    -122.25     37.85  ...            341300.0         NEAR BAY\n",
              "4    -122.25     37.85  ...            342200.0         NEAR BAY\n",
              "\n",
              "[5 rows x 10 columns]"
            ]
          },
          "metadata": {},
          "execution_count": 72
        }
      ]
    },
    {
      "cell_type": "markdown",
      "metadata": {
        "id": "hLs1K0rtKcar"
      },
      "source": [
        "Histogramas"
      ]
    },
    {
      "cell_type": "code",
      "metadata": {
        "colab": {
          "base_uri": "https://localhost:8080/",
          "height": 384
        },
        "id": "VtZrbu0dKZRg",
        "outputId": "7641b498-6227-4c82-9def-ceaccee91f8c"
      },
      "source": [
        "plt.hist(casas.housing_median_age, bins=20)"
      ],
      "execution_count": 73,
      "outputs": [
        {
          "output_type": "execute_result",
          "data": {
            "text/plain": [
              "(array([ 124.,  595.,  381.,  723.,  540., 1695., 1268., 1413.,  847.,\n",
              "        1663., 1420.,  934., 1869., 1686., 1300.,  600., 1077.,  539.,\n",
              "         509., 1457.]),\n",
              " array([ 1.  ,  3.55,  6.1 ,  8.65, 11.2 , 13.75, 16.3 , 18.85, 21.4 ,\n",
              "        23.95, 26.5 , 29.05, 31.6 , 34.15, 36.7 , 39.25, 41.8 , 44.35,\n",
              "        46.9 , 49.45, 52.  ]),\n",
              " <a list of 20 Patch objects>)"
            ]
          },
          "metadata": {},
          "execution_count": 73
        },
        {
          "output_type": "display_data",
          "data": {
            "image/png": "[encoded data removed]",
            "text/plain": [
              "<Figure size 432x288 with 1 Axes>"
            ]
          },
          "metadata": {
            "needs_background": "light"
          }
        }
      ]
    },
    {
      "cell_type": "markdown",
      "metadata": {
        "id": "LSaK3HKXK409"
      },
      "source": [
        "Box Plot"
      ]
    },
    {
      "cell_type": "code",
      "metadata": {
        "colab": {
          "base_uri": "https://localhost:8080/",
          "height": 265
        },
        "id": "CqnrbJ11Kp6F",
        "outputId": "ae166781-3c7b-4820-e622-d5affa687841"
      },
      "source": [
        "plt.boxplot(casas.housing_median_age)\n",
        "plt.show()"
      ],
      "execution_count": 74,
      "outputs": [
        {
          "output_type": "display_data",
          "data": {
            "image/png": "[encoded data removed]",
            "text/plain": [
              "<Figure size 432x288 with 1 Axes>"
            ]
          },
          "metadata": {
            "needs_background": "light"
          }
        }
      ]
    },
    {
      "cell_type": "markdown",
      "metadata": {
        "id": "2L6XZ2_8LMLU"
      },
      "source": [
        "##Referências\n",
        "\n",
        "TOLEDO, Geraldo Luciano e OVALLE, Ivo Izidório (1985) Estatítisca Básica. São Paulo: Atlas"
      ]
    }
  ]
}